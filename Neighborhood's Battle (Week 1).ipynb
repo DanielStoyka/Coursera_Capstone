{
 "cells": [
  {
   "cell_type": "markdown",
   "metadata": {},
   "source": [
    "# The Battle of the Neighborhoods "
   ]
  },
  {
   "cell_type": "markdown",
   "metadata": {},
   "source": [
    "###  Discussion of the background"
   ]
  },
  {
   "cell_type": "markdown",
   "metadata": {},
   "source": [
    "New York City  is a major center for banking and finance, retail, world trade, transportation, tourism, real estate, new media, traditional media, advertising, legal services, accounting, insurance, theater, fashion and the arts in the United States. Therefore, any new venture or business expansion must be carefully analyzed. The knowledge derived from the analysis will provide a good understanding of the business environment, which will help to strategically target the market. This will help to reduce risk. And the return on investment will be reasonable."
   ]
  },
  {
   "cell_type": "markdown",
   "metadata": {},
   "source": [
    "### Description of the data"
   ]
  },
  {
   "cell_type": "markdown",
   "metadata": {},
   "source": [
    "A fast food company wants to choose the right place to start its first business. The City of New York is famous for its excelllent cuisine. It's food culture includes an array of international cuisines influenced by the city's immigrant history.So it is evident that to survive in such competitive market it is very important to startegically plan. Various factors need to be studied inorder to decide on the Location such as:\n",
    "\n",
    "-New York Population\n",
    "\n",
    "-New York City Demographics\n",
    "\n",
    "-Are there any Farmers Markets, Wholesale markets etc nearby so that the ingredients can be purchased fresh\n",
    "\n",
    "-Are there any venues like Gyms, Entertainmnet zones, Parks etc nearby where floating population is high etc\n",
    "\n",
    "-Who are the competitors in that location?\n",
    "\n",
    "-Menu of the competitors\n",
    "\n",
    "-...\n"
   ]
  },
  {
   "cell_type": "markdown",
   "metadata": {},
   "source": [
    "The objective is to locate and recommend to the management which neighborhood of Newyork city will be best choice to start a restaurant. The Management also expects to understand the rationale of the recommendations made. The success criteria of the project will be a good recommendation of borough/Neighborhood choice to this company based on Lack of such restaurants in that location and nearest suppliers of ingredients."
   ]
  },
  {
   "cell_type": "code",
   "execution_count": null,
   "metadata": {},
   "outputs": [],
   "source": []
  }
 ],
 "metadata": {
  "kernelspec": {
   "display_name": "Python 3",
   "language": "python",
   "name": "python3"
  },
  "language_info": {
   "codemirror_mode": {
    "name": "ipython",
    "version": 3
   },
   "file_extension": ".py",
   "mimetype": "text/x-python",
   "name": "python",
   "nbconvert_exporter": "python",
   "pygments_lexer": "ipython3",
   "version": "3.8.3"
  }
 },
 "nbformat": 4,
 "nbformat_minor": 4
}
